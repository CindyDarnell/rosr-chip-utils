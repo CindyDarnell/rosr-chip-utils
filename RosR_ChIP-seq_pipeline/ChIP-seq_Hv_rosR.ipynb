{
 "cells": [
  {
   "cell_type": "markdown",
   "metadata": {},
   "source": [
    "# Setup"
   ]
  },
  {
   "cell_type": "code",
   "execution_count": null,
   "metadata": {},
   "outputs": [],
   "source": [
    "## Python packages\n",
    "import os, sys, stat, shutil\n",
    "import pandas as pd\n",
    "import numpy as np"
   ]
  },
  {
   "cell_type": "code",
   "execution_count": null,
   "metadata": {},
   "outputs": [],
   "source": [
    "## Move to main directory\n",
    "# Replace with your own path\n",
    "os.chdir('/Users/CDarnell/Dropbox (Duke Bio_EA)/Schmid Lab/Cindy/Data/ChIP-seq/20170817_Hv_rosRHA')"
   ]
  },
  {
   "cell_type": "code",
   "execution_count": null,
   "metadata": {},
   "outputs": [],
   "source": [
    "## Make directory tree\n",
    "\n",
    "if not 'data_processing' in os.listdir('.'):\n",
    "    os.mkdir('data_processing')\n",
    "    os.mkdir('data_processing/genome')\n",
    "    os.mkdir('data_processing/raw_data')\n",
    "    os.mkdir('data_processing/trimmed_data')\n",
    "    os.mkdir('data_processing/aligned_data')\n",
    "    os.mkdir('data_processing/aligned_data/wiggle_files')\n",
    "    os.mkdir('data_processing/aligned_data/GC_bias')\n",
    "    os.mkdir('data_processing/peak_analysis')\n",
    "    os.mkdir('data_processing/peak_analysis/MOSAiCS_results')\n",
    "    os.mkdir('data_processing/peak_analysis/MOSAiCS_results/bins')\n",
    "    os.mkdir('data_processing/peak_analysis/MOSAiCS_results/output')\n",
    "    os.mkdir('data_processing/peak_analysis/MOSAiCS_results/plots')\n",
    "    \n",
    "os.chdir('./data_processing')"
   ]
  },
  {
   "cell_type": "markdown",
   "metadata": {},
   "source": [
    "# Download and process reference genome"
   ]
  },
  {
   "cell_type": "code",
   "execution_count": null,
   "metadata": {},
   "outputs": [],
   "source": [
    "# Download genome information from NCBI\n",
    "\n",
    "! rsync --copy-links --recursive --times --verbose rsync://ftp.ncbi.nlm.nih.gov/genomes/refseq/archaea/Haloferax_volcanii/all_assembly_versions/GCF_000025685.1_ASM2568v1 ./genome/\n"
   ]
  },
  {
   "cell_type": "code",
   "execution_count": null,
   "metadata": {},
   "outputs": [],
   "source": [
    "# Make genome files writable\n",
    "\n",
    "! chmod a+rw ./genome/GCF_000025685.1_ASM2568v1/*.gz\n",
    "! chmod a+rw ./genome/GCF_000025685.1_ASM2568v1/*.txt\n"
   ]
  },
  {
   "cell_type": "code",
   "execution_count": null,
   "metadata": {},
   "outputs": [],
   "source": [
    "# Rename sequence file and decompress\n",
    "\n",
    "shutil.copy2('./genome/GCF_000025685.1_ASM2568v1/GCF_000025685.1_ASM2568v1_genomic.fna.gz', './genome/DS2.fna.gz')\n",
    "shutil.copy2('./genome/GCF_000025685.1_ASM2568v1/GCF_000025685.1_ASM2568v1_genomic.gff.gz', './genome/DS2.gff.gz')\n",
    "\n",
    "! gunzip ./genome/*.gz"
   ]
  },
  {
   "cell_type": "code",
   "execution_count": null,
   "metadata": {},
   "outputs": [],
   "source": [
    "# Convert .fna to .2bit (for GC correction)\n",
    "\n",
    "! faToTwoBit ./genome/DS2.fna ./genome/DS2.2bit"
   ]
  },
  {
   "cell_type": "code",
   "execution_count": null,
   "metadata": {},
   "outputs": [],
   "source": [
    "# Build genome index library for Bowtie2\n",
    "\n",
    "! bowtie2-build ./genome/DS2.fna ./genome/DS2"
   ]
  },
  {
   "cell_type": "code",
   "execution_count": null,
   "metadata": {},
   "outputs": [],
   "source": [
    "# Create annotation bed file (for peak annotations using bedtools)\n",
    "\n",
    "! sortBed -i ./genome/DS2.gff > ./genome/DS2_annotations.bed"
   ]
  },
  {
   "cell_type": "markdown",
   "metadata": {},
   "source": [
    "# Processing fastq.gz data files"
   ]
  },
  {
   "cell_type": "code",
   "execution_count": null,
   "metadata": {},
   "outputs": [],
   "source": [
    "## Download data files into ~/data_processing/raw_data\n",
    "# These will be available from GEO\n",
    "\n",
    "# This assumes the original files are backed up on a server/cloud.\n",
    "# Rename and decompress\n",
    "\n",
    "os.rename('./raw_data/CD1_S8_L007_R1_001.fastq.gz', './raw_data/pyrE2_WCE.fastq.gz')\n",
    "os.rename('./raw_data/CD2_S9_L007_R1_001.fastq.gz', './raw_data/pyrE2_IP.fastq.gz')\n",
    "os.rename('./raw_data/CD3_S10_L007_R1_001.fastq.gz', './raw_data/rosRHA1_WCE.fastq.gz')\n",
    "os.rename('./raw_data/CD4_S11_L007_R1_001.fastq.gz', './raw_data/rosRHA1_IP.fastq.gz')\n",
    "os.rename('./raw_data/CD5_S12_L007_R1_001.fastq.gz', './raw_data/rosRHA2_WCE.fastq.gz')\n",
    "os.rename('./raw_data/CD6_S13_L007_R1_001.fastq.gz', './raw_data/rosRHA2_IP.fastq.gz')\n",
    "os.rename('./raw_data/CD7_S14_L007_R1_001.fastq.gz', './raw_data/rosRHA3_WCE.fastq.gz')\n",
    "os.rename('./raw_data/CD8_S15_L007_R1_001.fastq.gz', './raw_data/rosRHA3_IP.fastq.gz')\n",
    "os.rename('./raw_data/CD9_S16_L007_R1_001.fastq.gz', './raw_data/rosRHA4_WCE.fastq.gz')\n",
    "os.rename('./raw_data/CD10_S17_L007_R1_001.fastq.gz', './raw_data/rosRHA4_IP.fastq.gz')\n",
    "\n",
    "\n",
    "! gunzip ./raw_data/*.fastq.gz"
   ]
  },
  {
   "cell_type": "code",
   "execution_count": null,
   "metadata": {},
   "outputs": [],
   "source": [
    "! ls ./raw_data"
   ]
  },
  {
   "cell_type": "code",
   "execution_count": null,
   "metadata": {},
   "outputs": [],
   "source": [
    "## Assess quality of reads\n",
    "\n",
    "! fastqc -q ./raw_data/*.fastq"
   ]
  },
  {
   "cell_type": "code",
   "execution_count": null,
   "metadata": {},
   "outputs": [],
   "source": [
    "! open ./raw_data/*.html"
   ]
  },
  {
   "cell_type": "code",
   "execution_count": null,
   "metadata": {},
   "outputs": [],
   "source": [
    "## Trim adapter sequences\n",
    "\n",
    "! trim_galore ./raw_data/*.fastq -o ./trimmed_data"
   ]
  },
  {
   "cell_type": "code",
   "execution_count": null,
   "metadata": {},
   "outputs": [],
   "source": [
    "%%bash\n",
    "\n",
    "## Align files with Bowtie2\n",
    "\n",
    "cd ./trimmed_data\n",
    "for file in *_trimmed.fq; do\n",
    "bowtie2 -x ../genome/DS2 -U $file -S ../aligned_data/`basename $file .fq`.sam\n",
    "done"
   ]
  },
  {
   "cell_type": "code",
   "execution_count": null,
   "metadata": {},
   "outputs": [],
   "source": [
    "## Rename, because I don't know how to code off the \"trimmed\"\n",
    "\n",
    "%cd ./aligned_data\n",
    "\n",
    "os.rename('pyrE2_WCE_trimmed.sam', 'pyrE2_WCE.sam')\n",
    "os.rename('pyrE2_IP_trimmed.sam', 'pyrE2_IP.sam')\n",
    "os.rename('rosRHA1_WCE_trimmed.sam', 'rosRHA1_WCE.sam')\n",
    "os.rename('rosRHA1_IP_trimmed.sam', 'rosRHA1_IP.sam')\n",
    "os.rename('rosRHA2_WCE_trimmed.sam', 'rosRHA2_WCE.sam')\n",
    "os.rename('rosRHA2_IP_trimmed.sam', 'rosRHA2_IP.sam')\n",
    "os.rename('rosRHA3_WCE_trimmed.sam', 'rosRHA3_WCE.sam')\n",
    "os.rename('rosRHA3_IP_trimmed.sam', 'rosRHA3_IP.sam')\n",
    "os.rename('rosRHA4_WCE_trimmed.sam', 'rosRHA4_WCE.sam')\n",
    "os.rename('rosRHA4_IP_trimmed.sam', 'rosRHA4_IP.sam')\n"
   ]
  },
  {
   "cell_type": "markdown",
   "metadata": {},
   "source": [
    "# Alignment file processing"
   ]
  },
  {
   "cell_type": "code",
   "execution_count": null,
   "metadata": {},
   "outputs": [],
   "source": [
    "%%bash\n",
    "\n",
    "## Alignment processing\n",
    "# Convert sam to bam file\n",
    "\n",
    "for file in *.sam; do\n",
    "samtools view -bS $file > `basename $file .sam`.bam;\n",
    "done"
   ]
  },
  {
   "cell_type": "code",
   "execution_count": null,
   "metadata": {},
   "outputs": [],
   "source": [
    "%%bash\n",
    "\n",
    "# Sort bam files\n",
    "\n",
    "for file in *.bam; do\n",
    "samtools sort $file -o `basename $file .bam`_sorted.bam;\n",
    "done"
   ]
  },
  {
   "cell_type": "code",
   "execution_count": null,
   "metadata": {},
   "outputs": [],
   "source": [
    "%%bash\n",
    "\n",
    "# Index bam files\n",
    "\n",
    "for file in *_sorted.bam; do\n",
    "samtools index $file `basename $file .bam`.bam.bai;\n",
    "done"
   ]
  },
  {
   "cell_type": "markdown",
   "metadata": {},
   "source": [
    "# GC Bias"
   ]
  },
  {
   "cell_type": "code",
   "execution_count": null,
   "metadata": {},
   "outputs": [],
   "source": [
    "%%bash\n",
    "\n",
    "## GC Bias\n",
    "# Compute GC bias\n",
    "\n",
    "for file in *_WCE_sorted.bam\n",
    "do\n",
    "computeGCBias -b $file --effectiveGenomeSize 4012900 -g ../genome/DS2.2bit -l 300 -freq ./GC_bias/`basename $file .bam`_GC.txt;\n",
    "done"
   ]
  },
  {
   "cell_type": "code",
   "execution_count": null,
   "metadata": {},
   "outputs": [],
   "source": [
    "%cd .."
   ]
  },
  {
   "cell_type": "markdown",
   "metadata": {},
   "source": [
    "## Generate (better) plots in R\n",
    "Run GC_Bias_plots.R\n",
    "You may need to make changes depending on your data/genome. \n",
    "\n",
    "These plots will need to be manually inspected to determine if you need to apply GC correction. See computeGCBias documentation at [deeptools](https://deeptools.readthedocs.io/en/develop/content/tools/computeGCBias.html)\n"
   ]
  },
  {
   "cell_type": "markdown",
   "metadata": {},
   "source": [
    "## Correct GC Bias"
   ]
  },
  {
   "cell_type": "code",
   "execution_count": null,
   "metadata": {},
   "outputs": [],
   "source": [
    "%%bash\n",
    "\n",
    "cd ./aligned_data\n",
    "\n",
    "for file in *_WCE_sorted.bam; do\n",
    "computeGCBias -b $file --effectiveGenomeSize 4012900 -g ../genome/DS2.2bit -freq ./GC_bias/`basename $file .bam`_GC.txt -o ./GC_bias/`basename $file .bam`_GCcorrected.bam;\n",
    "done\n"
   ]
  },
  {
   "cell_type": "markdown",
   "metadata": {},
   "source": [
    "## Generate wiggle files with MOSAiCS\n",
    "\n",
    "For data visualization purposes.\n",
    "Run Generate_wiggle_files.R\n",
    "\n",
    "For details, see documentation of [MOSAiCS package](https://bioconductor.org/packages/release/bioc/html/mosaics.html)"
   ]
  },
  {
   "cell_type": "markdown",
   "metadata": {},
   "source": [
    "# Peak calling with MOSAiCS\n",
    "\n",
    "Run Peak_calling.R\n",
    "\n",
    "For details, see documentation of [MOSAiCS package](https://bioconductor.org/packages/release/bioc/html/mosaics.html)"
   ]
  },
  {
   "cell_type": "markdown",
   "metadata": {},
   "source": [
    "# Calling gene annotations using bedtools"
   ]
  },
  {
   "cell_type": "code",
   "execution_count": null,
   "metadata": {},
   "outputs": [],
   "source": [
    "# Copy annotations file to peak_analysis directory\n",
    "\n",
    "! cp ./genome/ATCC33960_annotations.bed ./peak_analysis_MOSAiCS_results/output/ATCC33960_annotations.bed\n",
    "%cd ./peak_analysis/MOSAiCS_results/output\n",
    "\n",
    "# Compare biological replicates\n",
    "\n",
    "! bedtools intersect -a pyrF1_minus_GC.bed -b pyrF2_minus_GC.bed -f 0.50 -r > all_pyrF_minus.bed\n",
    "! bedtools intersect -a trmBHA1_plus_GC.bed -b trmBHA2_plus_GC.bed -f 0.50 -r > all_trmBHA_plus.bed\n",
    "! bedtools multiinter -i trmBHA1_minus_GC.bed trmBHA2_minus_GC.bed trmBHA3_minus_GC.bed trmBHA4_minus_GC.bed > all_trmBHA_minus.bed\n"
   ]
  },
  {
   "cell_type": "code",
   "execution_count": null,
   "metadata": {},
   "outputs": [],
   "source": [
    "# Subtract negative control peaks\n",
    "\n",
    "! bedtools subtract -a all_trmBHA_minus.bed -b all_pyrF_minus.bed -f 0.50 -r > all_trmBHA_minus_subtracted.bed\n",
    "! bedtools subtract -a all_trmBHA_plus.bed -b all_pyrF_minus.bed -f 0.50 -r > all_trmBHA_plus_subtracted.bed\n"
   ]
  },
  {
   "cell_type": "code",
   "execution_count": null,
   "metadata": {},
   "outputs": [],
   "source": [
    "# Sort by chromosome\n",
    "\n",
    "! bedtools sort -i all_trmBHA_minus_subtracted.bed > all_trmBHA_minus_subtracted_sorted.bed\n",
    "! bedtools sort -i all_trmBHA_plus_subtracted.bed > all_trmBHA_plus_subtracted_sorted.bed\n"
   ]
  },
  {
   "cell_type": "code",
   "execution_count": null,
   "metadata": {},
   "outputs": [],
   "source": [
    "# Pull closest annotations\n",
    "\n",
    "! bedtools closest -a all_trmBHA_minus_subtracted_sorted.bed -b ATCC33960_annotations.bed > all_trmBHA_minus_closest.txt\n",
    "! bedtools closest -a all_trmBHA_plus_subtracted_sorted.bed -b ATCC33960_annotations.bed > all_trmBHA_plus_closest.txt\n"
   ]
  },
  {
   "cell_type": "code",
   "execution_count": null,
   "metadata": {},
   "outputs": [],
   "source": [
    "# Remove duplicates\n",
    "\n",
    "! sort all_trmBHA_minus_closest.txt | uniq > all_trmBHA_minus_closest_noDuplicates.txt\n",
    "! sort all_trmBHA_plus_closest.txt | uniq > all_trmBHA_plus_closest_noDuplicates.txt\n",
    "\n",
    "! open all_trmBHA_minus_closest_noDuplicates.txt\n",
    "! open all_trmBHA_plus_closest_noDuplicates.txt\n"
   ]
  }
 ],
 "metadata": {
  "kernelspec": {
   "display_name": "Python 3",
   "language": "python",
   "name": "python3"
  },
  "language_info": {
   "codemirror_mode": {
    "name": "ipython",
    "version": 3
   },
   "file_extension": ".py",
   "mimetype": "text/x-python",
   "name": "python",
   "nbconvert_exporter": "python",
   "pygments_lexer": "ipython3",
   "version": "3.7.2"
  }
 },
 "nbformat": 4,
 "nbformat_minor": 2
}
